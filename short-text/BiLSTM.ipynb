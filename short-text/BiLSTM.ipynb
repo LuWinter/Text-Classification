{
 "cells": [
  {
   "cell_type": "markdown",
   "id": "7e478e01-a7d9-4758-a04d-c219bb5adfe4",
   "metadata": {},
   "source": [
    "## 7.4.1 载入数据"
   ]
  },
  {
   "cell_type": "code",
   "execution_count": 1,
   "id": "8158c669-5d61-46b9-945f-aeff16383d28",
   "metadata": {},
   "outputs": [
    {
     "name": "stdout",
     "output_type": "stream",
     "text": [
      "['北师教育学，你我一起努力，让胜利酣畅淋漓。', '考博英语词汇', '出售人大新闻学院2015年考研权威资料', '【脑科院 郭桃梅课题组】科研助理招聘', '管理学院的同学帮帮忙呐～']\n",
      "['【字节跳动内推】校招岗位全面开放，帮查进度！', '招聘兼职/ 笔试考务 /200-300 每人', '国企出版社招聘坐班兼职生', '【在线早教】教研实习生招聘', '【兼职】心理学公众号寻兼职写手']\n"
     ]
    }
   ],
   "source": [
    "# 数据导入到列表\n",
    "academy_titles, job_titles = [], []\n",
    "\n",
    "with open(r'academy_titles.txt', encoding='utf8') as f:\n",
    "    for l in f:\n",
    "        academy_titles.append(l.strip())\n",
    "\n",
    "with open(r'job_titles.txt', encoding='utf8') as f:\n",
    "    for l in f:\n",
    "        job_titles.append(l.strip())\n",
    "\n",
    "print(academy_titles[:5])\n",
    "print(job_titles[:5])"
   ]
  },
  {
   "cell_type": "code",
   "execution_count": 2,
   "id": "c16da55e-d849-4886-8feb-2ec337e75f07",
   "metadata": {},
   "outputs": [
    {
     "name": "stdout",
     "output_type": "stream",
     "text": [
      "1570\n"
     ]
    }
   ],
   "source": [
    "char_set = set()\n",
    "\n",
    "for title in academy_titles + job_titles:\n",
    "    [char_set.add(ch) for ch in title]\n",
    "        \n",
    "print(len(char_set))\n",
    "\n",
    "char_list = list(char_set)\n",
    "n_chars = len(char_list) + 1"
   ]
  },
  {
   "cell_type": "code",
   "execution_count": 3,
   "id": "aee018e5-8eb1-49df-a938-4da9195c9145",
   "metadata": {},
   "outputs": [],
   "source": [
    "import torch\n",
    "\n",
    "def title_to_tensor(title):\n",
    "    tensor = torch.zeros(len(title), dtype=torch.long)\n",
    "    for li, ch in enumerate(title):\n",
    "        try:\n",
    "            ind = char_list.index(ch)\n",
    "        except ValueError:\n",
    "            ind = n_chars - 1\n",
    "        tensor[li] = ind\n",
    "    return tensor"
   ]
  },
  {
   "cell_type": "markdown",
   "id": "de2d04d3-2214-4d51-be80-ce8e5dc35c58",
   "metadata": {},
   "source": [
    "## 7.4.2 定义模型"
   ]
  },
  {
   "cell_type": "code",
   "execution_count": 4,
   "id": "e23872fe-46de-4605-9ac9-229ca0d1c903",
   "metadata": {},
   "outputs": [],
   "source": [
    "import torch.nn as nn\n",
    "\n",
    "class LSTM(nn.Module):\n",
    "    def __init__(self, word_count, embedding_size, hidden_size, output_size):\n",
    "        super(LSTM, self).__init__()\n",
    "        self.hidden_size = hidden_size\n",
    "        self.embedding = nn.Embedding(word_count, embedding_size)\n",
    "        self.LSTM = nn.LSTM(embedding_size, hidden_size, num_layers=2, bidirectional=True, batch_first=True)\n",
    "        self.cls = nn.Linear(hidden_size, output_size)\n",
    "        self.softmax = nn.LogSoftmax(dim=0)\n",
    "        \n",
    "    def forward(self, input_tensor):\n",
    "        word_vector = self.embedding(input_tensor)\n",
    "        output = self.LSTM(word_vector)[0][0][len(input_tensor)-1]\n",
    "        output = output.reshape(2, -1).sum(axis=0)\n",
    "        output = self.cls(output)\n",
    "        output = self.softmax(output)\n",
    "        return output"
   ]
  },
  {
   "cell_type": "markdown",
   "id": "11f41c48-f277-4cfe-98a5-1a33094d8b89",
   "metadata": {},
   "source": [
    "## 7.4.3 训练模型"
   ]
  },
  {
   "cell_type": "code",
   "execution_count": 5,
   "id": "f2983892-5a9e-4098-9fba-e6c3609d3b43",
   "metadata": {},
   "outputs": [],
   "source": [
    "def run_lstm(rnn, input_tensor):\n",
    "    output = rnn(input_tensor.unsqueeze(dim=0))\n",
    "    return output"
   ]
  },
  {
   "cell_type": "code",
   "execution_count": 6,
   "id": "fc0cee4c-557b-4f8a-b32b-a664f02304e0",
   "metadata": {},
   "outputs": [],
   "source": [
    "def train(rnn, criterion, input_tensor, category_tensor):\n",
    "    rnn.zero_grad()\n",
    "    output = run_lstm(rnn, input_tensor)\n",
    "    loss = criterion(output.unsqueeze(dim=0), category_tensor)\n",
    "    loss.backward()\n",
    "\n",
    "    # 根据梯度更新模型的参数\n",
    "    for p in rnn.parameters():\n",
    "        p.data.add_(p.grad.data, alpha=-learning_rate)\n",
    "\n",
    "    return output, loss.item()"
   ]
  },
  {
   "cell_type": "code",
   "execution_count": 7,
   "id": "48ff6264-c245-4b02-b66b-38e420a21655",
   "metadata": {},
   "outputs": [],
   "source": [
    "def evaluate(lstm, input_tensor):\n",
    "    with torch.no_grad():\n",
    "        output = run_lstm(lstm, input_tensor)\n",
    "        return output"
   ]
  },
  {
   "cell_type": "code",
   "execution_count": 8,
   "id": "fe47c9fc-f866-41f8-95df-63359314073e",
   "metadata": {},
   "outputs": [
    {
     "name": "stdout",
     "output_type": "stream",
     "text": [
      "Train data size: 4975\n",
      "Test data size: 2133\n"
     ]
    }
   ],
   "source": [
    "import random\n",
    "\n",
    "all_data = []\n",
    "categories = ['考研信息', '招聘信息']\n",
    "for l in academy_titles:\n",
    "    all_data.append((title_to_tensor(l), torch.tensor([0], dtype=torch.long)))\n",
    "for l in job_titles:\n",
    "    all_data.append((title_to_tensor(l), torch.tensor([1], dtype=torch.long)))\n",
    "    \n",
    "random.shuffle(all_data)\n",
    "data_len = len(all_data)\n",
    "split_ratio = 0.7\n",
    "\n",
    "train_data = all_data[:int(data_len * split_ratio)]\n",
    "test_data = all_data[int(data_len * split_ratio):]\n",
    "print(\"Train data size:\", len(train_data))\n",
    "print(\"Test data size:\", len(test_data))"
   ]
  },
  {
   "cell_type": "code",
   "execution_count": 9,
   "id": "4dfbf3f7-e3fe-4316-a3e5-c258e4cb4865",
   "metadata": {},
   "outputs": [
    {
     "name": "stderr",
     "output_type": "stream",
     "text": [
      "100%|██████████| 4975/4975 [00:27<00:00, 183.55it/s]\n",
      "100%|██████████| 2133/2133 [00:01<00:00, 1109.86it/s]\n"
     ]
    },
    {
     "name": "stdout",
     "output_type": "stream",
     "text": [
      "accuracy 0.9685888420065635\n"
     ]
    },
    {
     "name": "stderr",
     "output_type": "stream",
     "text": [
      "100%|██████████| 4975/4975 [00:27<00:00, 184.04it/s]\n",
      "100%|██████████| 2133/2133 [00:01<00:00, 1095.44it/s]\n"
     ]
    },
    {
     "name": "stdout",
     "output_type": "stream",
     "text": [
      "accuracy 0.9962494139709329\n"
     ]
    },
    {
     "name": "stderr",
     "output_type": "stream",
     "text": [
      "100%|██████████| 4975/4975 [00:27<00:00, 183.92it/s]\n",
      "100%|██████████| 2133/2133 [00:01<00:00, 1111.27it/s]\n"
     ]
    },
    {
     "name": "stdout",
     "output_type": "stream",
     "text": [
      "accuracy 0.9981247069854665\n"
     ]
    },
    {
     "name": "stderr",
     "output_type": "stream",
     "text": [
      "100%|██████████| 4975/4975 [00:26<00:00, 184.50it/s]\n",
      "100%|██████████| 2133/2133 [00:01<00:00, 1110.78it/s]\n"
     ]
    },
    {
     "name": "stdout",
     "output_type": "stream",
     "text": [
      "accuracy 0.9976558837318331\n"
     ]
    },
    {
     "name": "stderr",
     "output_type": "stream",
     "text": [
      "100%|██████████| 4975/4975 [00:26<00:00, 185.92it/s]\n",
      "100%|██████████| 2133/2133 [00:01<00:00, 1118.26it/s]"
     ]
    },
    {
     "name": "stdout",
     "output_type": "stream",
     "text": [
      "accuracy 0.9981247069854665\n"
     ]
    },
    {
     "name": "stderr",
     "output_type": "stream",
     "text": [
      "\n"
     ]
    }
   ],
   "source": [
    "from tqdm import tqdm\n",
    "\n",
    "epoch = 5\n",
    "embedding_size = 128\n",
    "n_hidden = 10\n",
    "n_categories = 2\n",
    "learning_rate = 0.005\n",
    "lstm = LSTM(n_chars, embedding_size, n_hidden, n_categories)\n",
    "criterion = nn.NLLLoss()\n",
    "loss_sum = 0\n",
    "all_losses = []\n",
    "plot_every = 100\n",
    "for e in range(epoch):\n",
    "    for ind, (title_tensor, label) in enumerate(tqdm(train_data)):\n",
    "        output, loss = train(lstm, criterion, title_tensor, label)\n",
    "        loss_sum += loss\n",
    "        if ind % plot_every == 0:\n",
    "            all_losses.append(loss_sum / plot_every)\n",
    "            loss_sum = 0\n",
    "    c = 0\n",
    "    for title, category in tqdm(test_data):\n",
    "        output = evaluate(lstm, title)\n",
    "        topn, topi = output.topk(1)\n",
    "        if topi.item() == category[0].item():\n",
    "            c += 1\n",
    "    print('accuracy', c / len(test_data))"
   ]
  },
  {
   "cell_type": "code",
   "execution_count": 10,
   "id": "beb02337-314f-4e4a-be4c-43b3ad9686ce",
   "metadata": {},
   "outputs": [
    {
     "data": {
      "text/plain": [
       "[<matplotlib.lines.Line2D at 0x136b81c70>]"
      ]
     },
     "execution_count": 10,
     "metadata": {},
     "output_type": "execute_result"
    },
    {
     "data": {
      "image/png": "[encoded data removed]",
      "text/plain": [
       "<Figure size 720x504 with 1 Axes>"
      ]
     },
     "metadata": {
      "needs_background": "light"
     },
     "output_type": "display_data"
    }
   ],
   "source": [
    "import matplotlib.pyplot as plt\n",
    "\n",
    "plt.figure(figsize=(10, 7))\n",
    "plt.ylabel('Average Loss')\n",
    "plt.plot(all_losses[1:])"
   ]
  }
 ],
 "metadata": {
  "kernelspec": {
   "display_name": "Python 3",
   "language": "python",
   "name": "python3"
  },
  "language_info": {
   "codemirror_mode": {
    "name": "ipython",
    "version": 3
   },
   "file_extension": ".py",
   "mimetype": "text/x-python",
   "name": "python",
   "nbconvert_exporter": "python",
   "pygments_lexer": "ipython3",
   "version": "3.8.16"
  }
 },
 "nbformat": 4,
 "nbformat_minor": 5
}
